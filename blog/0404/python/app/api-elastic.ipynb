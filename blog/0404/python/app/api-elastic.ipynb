{
 "cells": [
  {
   "cell_type": "code",
   "execution_count": 2,
   "id": "31be553e-3f87-4be2-8084-2616fd2e1e10",
   "metadata": {},
   "outputs": [
    {
     "data": {
      "text/plain": [
       "'3.9.9 (main, Nov 17 2021, 16:30:15) \\n[GCC 10.2.1 20210110]'"
      ]
     },
     "execution_count": 2,
     "metadata": {},
     "output_type": "execute_result"
    }
   ],
   "source": [
    "import sys\n",
    "sys.version"
   ]
  },
  {
   "cell_type": "code",
   "execution_count": 12,
   "id": "19068123-7421-466f-80e1-aff29c4c4707",
   "metadata": {},
   "outputs": [],
   "source": [
    "import urllib3\n",
    "import requests\n",
    "import json\n",
    "from base64 import b64encode\n",
    "urllib3.disable_warnings(urllib3.exceptions.InsecureRequestWarning)"
   ]
  },
  {
   "cell_type": "code",
   "execution_count": 13,
   "id": "ace21276-74d1-4119-8270-d6d623fda020",
   "metadata": {},
   "outputs": [],
   "source": [
    "#########################\n",
    "# Cluster情報を入力\n",
    "#########################\n",
    "\n",
    "#POC20\n",
    "prism_ip = '10.149.20.41'\n",
    "prism_user = 'admin'\n",
    "prism_pass = 'Nutanix/4u123!'"
   ]
  },
  {
   "cell_type": "code",
   "execution_count": 14,
   "id": "779f13ab-9e29-49c8-a5eb-d17d7d3b55a2",
   "metadata": {},
   "outputs": [],
   "source": [
    "# authentication\n",
    "# 参考 https://www.nutanix.dev/reference/prism_central/v3/authentication\n",
    "request_url = 'https://' + prism_ip + ':9440/api/nutanix/v3/vms/list'\n",
    "\n",
    "encoded_credentials = b64encode(bytes(f'{prism_user}:{prism_pass}', encoding='ascii')).decode('ascii')\n",
    "auth_header = f'Basic {encoded_credentials}'\n",
    "headers = {'Accept': 'application/json', 'Content-Type': 'application/json', 'Authorization': f'{auth_header}', 'cache-control': 'no-cache'}"
   ]
  },
  {
   "cell_type": "code",
   "execution_count": 15,
   "id": "7a3eb9dd-20ec-4af3-a295-9fbf5aa68af2",
   "metadata": {},
   "outputs": [],
   "source": [
    "payload = '{\"kind\":\"vm\", \"length\":256}'"
   ]
  },
  {
   "cell_type": "code",
   "execution_count": 16,
   "id": "88667465-1dda-4ccb-9aa6-5b9f1d7486fb",
   "metadata": {},
   "outputs": [
    {
     "data": {
      "text/plain": [
       "<Response [200]>"
      ]
     },
     "execution_count": 16,
     "metadata": {},
     "output_type": "execute_result"
    }
   ],
   "source": [
    "# 200が返ってこれば OK\n",
    "# 取得失敗の処理\n",
    "try:\n",
    "    response = requests.request('post', request_url, data=payload, headers=headers, verify=False, timeout=3.5)\n",
    "\n",
    "except requests.exceptions.ConnectTimeout:\n",
    "    response = \"Timeout shimasita\"\n",
    "\n",
    "response"
   ]
  },
  {
   "cell_type": "code",
   "execution_count": 17,
   "id": "4871be91-1ee8-430e-b7c0-4b0834c42132",
   "metadata": {},
   "outputs": [
    {
     "data": {
      "text/plain": [
       "{'total_matches': 29, 'kind': 'vm', 'length': 29, 'offset': 0}"
      ]
     },
     "execution_count": 17,
     "metadata": {},
     "output_type": "execute_result"
    }
   ],
   "source": [
    "# json整形\n",
    "res_vms = response.json()\n",
    "\n",
    "# なんとなく確認、今後ブラウザ表示とかに使う\n",
    "res_vms['metadata']"
   ]
  },
  {
   "cell_type": "code",
   "execution_count": 18,
   "id": "f75a33cf-df51-4484-ac71-3ad59b7cb097",
   "metadata": {},
   "outputs": [],
   "source": [
    "\n",
    "\n",
    "\n",
    "#ここからElasticsearch操作"
   ]
  },
  {
   "cell_type": "code",
   "execution_count": 1,
   "id": "000e6801-1799-45a9-ae94-cdfee9e8ec6c",
   "metadata": {},
   "outputs": [
    {
     "name": "stderr",
     "output_type": "stream",
     "text": [
      "/usr/local/lib/python3.9/site-packages/elasticsearch/connection/base.py:209: ElasticsearchWarning: Elasticsearch built-in security features are not enabled. Without authentication, your cluster could be accessible to anyone. See https://www.elastic.co/guide/en/elasticsearch/reference/7.14/security-minimal-setup.html to enable security.\n",
      "  warnings.warn(message, category=ElasticsearchWarning)\n"
     ]
    },
    {
     "data": {
      "text/plain": [
       "['.geoip_databases',\n",
       " '.apm-custom-link',\n",
       " 'nutanix-volume_group',\n",
       " '.apm-agent-configuration',\n",
       " '.kibana_task_manager_7.14.2_001',\n",
       " '.kibana_7.14.2_001',\n",
       " 'vm_list',\n",
       " '.async-search',\n",
       " 'volume_group',\n",
       " '.tasks',\n",
       " 'nutanix-vm_list',\n",
       " '.kibana-event-log-7.14.2-000001']"
      ]
     },
     "execution_count": 1,
     "metadata": {},
     "output_type": "execute_result"
    }
   ],
   "source": [
    "from elasticsearch import Elasticsearch\n",
    "from elasticsearch import helpers\n",
    "from datetime import datetime\n",
    "\n",
    "es = Elasticsearch('elasticsearch:9200')\n",
    "\n",
    "indices = es.cat.indices(index='*', h='index').splitlines()\n",
    "\n",
    "# Warningは一旦無視\n",
    "# index一覧を表示\n",
    "indices"
   ]
  },
  {
   "cell_type": "code",
   "execution_count": 19,
   "id": "dad4791d-051f-42f7-844c-e465c3a5d71c",
   "metadata": {},
   "outputs": [],
   "source": [
    "# 現状の index確認にして、存在してなければ作成\n",
    "index_name = 'vm_list'\n",
    "\n",
    "if index_name not in indices:\n",
    "    es.indices.create(index=index_name)"
   ]
  },
  {
   "cell_type": "code",
   "execution_count": 20,
   "id": "9a3c0bf0-3107-4c24-8067-5f409f2a24ea",
   "metadata": {},
   "outputs": [
    {
     "name": "stdout",
     "output_type": "stream",
     "text": [
      "POC20\n"
     ]
    }
   ],
   "source": [
    "cluster_name = res_vms['entities'][0]['spec']['cluster_reference']['name']\n",
    "timestamp = datetime.utcnow()\n",
    "print(cluster_name)"
   ]
  },
  {
   "cell_type": "code",
   "execution_count": 21,
   "id": "8740bb25-dd38-42a4-a3c4-a83fc1445d32",
   "metadata": {},
   "outputs": [],
   "source": [
    "# REST API取得結果から entitiesだけを抜き出して、配列で格納\n",
    "# VMごとの _docになり検索しやすい\n",
    "actions = []\n",
    "for entity in res_vms['entities']:\n",
    "    entity['timestamp'] = timestamp\n",
    "    entity['cluster_name'] = cluster_name\n",
    "    actions.append({'_index':index_name, '_source':entity}) "
   ]
  },
  {
   "cell_type": "code",
   "execution_count": 23,
   "id": "077f131e-bc0a-4552-b6e1-ce656d890fd1",
   "metadata": {},
   "outputs": [],
   "source": [
    "# Elastcisearchへ投入 ※Waringは無視してOK\n",
    "reaction = helpers.bulk(es, actions)\n"
   ]
  },
  {
   "cell_type": "code",
   "execution_count": 25,
   "id": "83511c9c-fecb-40ce-9300-03d711f51fb4",
   "metadata": {},
   "outputs": [
    {
     "data": {
      "text/plain": [
       "((29, []), 29)"
      ]
     },
     "execution_count": 25,
     "metadata": {},
     "output_type": "execute_result"
    }
   ],
   "source": [
    "reaction, len(actions)"
   ]
  },
  {
   "cell_type": "code",
   "execution_count": 17,
   "id": "7d1634be-2cc5-4bfc-9594-1010519128bb",
   "metadata": {},
   "outputs": [
    {
     "data": {
      "text/plain": [
       "29"
      ]
     },
     "execution_count": 17,
     "metadata": {},
     "output_type": "execute_result"
    }
   ],
   "source": []
  },
  {
   "cell_type": "markdown",
   "id": "47ca0496-d4c8-4532-93da-056123329303",
   "metadata": {},
   "source": [
    "### このあと5分くらい待ってから、Kibanaの画面を確認しにいく  \n",
    "\n",
    "[localhost:5601](localhost:5601)  \n",
    "\n"
   ]
  },
  {
   "cell_type": "code",
   "execution_count": null,
   "id": "578a585e-ed52-44d8-b5ab-b6ed7d074d72",
   "metadata": {},
   "outputs": [],
   "source": []
  },
  {
   "cell_type": "markdown",
   "id": "efab2237-a4ec-462b-8267-65e4f85cbeb5",
   "metadata": {},
   "source": [
    "## volume group も取得して、Elasticsearchへ"
   ]
  },
  {
   "cell_type": "code",
   "execution_count": 18,
   "id": "f1530d48-7077-4f9d-a741-20e967a33978",
   "metadata": {},
   "outputs": [
    {
     "data": {
      "text/plain": [
       "200"
      ]
     },
     "execution_count": 18,
     "metadata": {},
     "output_type": "execute_result"
    }
   ],
   "source": [
    "# get volume_group\n",
    "request_url = 'https://' + prism_ip + ':9440/PrismGateway/services/rest/v2.0/volume_groups/'\n",
    "\n",
    "# 200が返ってこれば OK\n",
    "response = requests.request('get', request_url, headers=headers, verify=False)\n",
    "response.status_code"
   ]
  },
  {
   "cell_type": "code",
   "execution_count": 20,
   "id": "d6421bd1-9923-420b-a5ce-be657dd8904e",
   "metadata": {},
   "outputs": [],
   "source": [
    "volume_group = response.json()"
   ]
  },
  {
   "cell_type": "code",
   "execution_count": 24,
   "id": "6612b5fe-cdb9-4f0b-a3ce-4992f5b59f99",
   "metadata": {},
   "outputs": [
    {
     "data": {
      "text/plain": [
       "26"
      ]
     },
     "execution_count": 24,
     "metadata": {},
     "output_type": "execute_result"
    }
   ],
   "source": [
    "len(volume_group['entities'])"
   ]
  },
  {
   "cell_type": "code",
   "execution_count": 25,
   "id": "29c95575-73c5-4df2-8868-652e849ae182",
   "metadata": {},
   "outputs": [],
   "source": [
    "# 現状の index確認にして、存在してなければ作成\n",
    "index_name = 'volume_group'\n",
    "\n",
    "indices = es.cat.indices(index='*', h='index').splitlines()\n",
    "if index_name not in indices:\n",
    "    es.indices.create(index=index_name)\n",
    "\n",
    "# Elasticsearch投入用に整形\n",
    "actions = []\n",
    "for entity in volume_group['entities']:\n",
    "    entity['timestamp'] = timestamp\n",
    "    entity['cluster_name'] = cluster_name\n",
    "    actions.append({'_index':index_name, '_source':entity}) "
   ]
  },
  {
   "cell_type": "code",
   "execution_count": 26,
   "id": "94c16dad-c195-489a-9add-f4ec20a12264",
   "metadata": {},
   "outputs": [
    {
     "data": {
      "text/plain": [
       "(26, [])"
      ]
     },
     "execution_count": 26,
     "metadata": {},
     "output_type": "execute_result"
    }
   ],
   "source": [
    "# Elasticsearchへ投入\n",
    "helpers.bulk(es, actions)"
   ]
  },
  {
   "cell_type": "code",
   "execution_count": null,
   "id": "dc60323d-f191-4520-b578-3375c9806715",
   "metadata": {},
   "outputs": [],
   "source": []
  },
  {
   "cell_type": "code",
   "execution_count": null,
   "id": "e3548790-5a09-495a-813b-769a6dc05aa9",
   "metadata": {},
   "outputs": [],
   "source": []
  },
  {
   "cell_type": "markdown",
   "id": "4ca2f0c7-a891-4548-9735-d0c8fd5ce933",
   "metadata": {},
   "source": [
    "### データセット"
   ]
  },
  {
   "cell_type": "code",
   "execution_count": null,
   "id": "fc8f0a9c-6367-44fc-a91e-1602e586f524",
   "metadata": {},
   "outputs": [],
   "source": [
    "def set_data():\n",
    "    title = \"Time select Complete\"\n",
    "    cluster_name = request.form['cluster_name']\n",
    "    timestamp_utcstr = request.form['timestamp-utcstr']\n",
    "\n",
    "    timeslot = es.get_timeslot(cluster_name)\n",
    "    timestamp_list =  data_broker.change_timestamp_list(timestamp_utcstr)"
   ]
  },
  {
   "cell_type": "code",
   "execution_count": null,
   "id": "d6fdc33f-3d99-4f7c-815b-e5ef2e163d80",
   "metadata": {},
   "outputs": [],
   "source": []
  },
  {
   "cell_type": "code",
   "execution_count": null,
   "id": "fcb68aa1-0652-42eb-8597-e16fe6a4e570",
   "metadata": {},
   "outputs": [],
   "source": []
  },
  {
   "cell_type": "code",
   "execution_count": null,
   "id": "6d5a4bc2-3b1f-4ebe-a8c9-74afabe74232",
   "metadata": {},
   "outputs": [],
   "source": []
  },
  {
   "cell_type": "code",
   "execution_count": null,
   "id": "e995fe26-df6b-4537-9a85-290983efc011",
   "metadata": {},
   "outputs": [],
   "source": []
  },
  {
   "cell_type": "code",
   "execution_count": null,
   "id": "7ad8b10d-7040-481d-a3d0-aed85a7b1193",
   "metadata": {},
   "outputs": [],
   "source": []
  },
  {
   "cell_type": "markdown",
   "id": "7dc8b38f-4f59-4c05-921a-4592d912082f",
   "metadata": {},
   "source": [
    "## Elasticsearchから取得"
   ]
  },
  {
   "cell_type": "code",
   "execution_count": 79,
   "id": "3b72921a-9c10-4129-8713-2679ccda1e28",
   "metadata": {},
   "outputs": [],
   "source": [
    "def change_timeslot_list(timeslot):\n",
    "    timeslot_dict = []\n",
    "    for oneslot in timeslot:\n",
    "        _utc = re.split('[T.]', oneslot)\n",
    "        utc = _utc[0] + \" \" + _utc[1]\n",
    "        utc_time = datetime.strptime(utc, '%Y-%m-%d %H:%M:%S')\n",
    "        _jst_time = utc_time.astimezone(timezone(timedelta(hours=+9)))\n",
    "        jst_time = datetime.strftime(_jst_time, '%Y-%m-%d %H:%M:%S')\n",
    "\n",
    "        timeslot_dict.append({'value_time':oneslot, 'local_time':jst_time})\n",
    "    return timeslot_dict\n",
    "\n",
    "def change_timestamp_list(timestamp):\n",
    "    timestamp_dict = []\n",
    "    _utc = re.split('[T.]', timestamp)\n",
    "    utc = _utc[0] + \" \" + _utc[1]\n",
    "    utc_time = datetime.strptime(utc, '%Y-%m-%d %H:%M:%S')\n",
    "    _jst_time = utc_time.astimezone(timezone(timedelta(hours=+9)))\n",
    "    jst_time = datetime.strftime(_jst_time, '%Y-%m-%d %H:%M:%S')\n",
    "\n",
    "    timestamp_dict.append({'value_time':timestamp, 'local_time':jst_time})\n",
    "    return timestamp_dict\n",
    "\n",
    "class Ela():\n",
    "    def __init__(self, es_server):\n",
    "        self.es = Elasticsearch(es_server)\n",
    "\n",
    "    def get_indices(self):\n",
    "        es = self.es\n",
    "        return es.cat.indices()\n",
    "\n",
    "    # insert vm_list\n",
    "    def vm_list(self, r_json, timestamp):\n",
    "        index_name = 'vm_list'\n",
    "        cluster_name = r_json['entities'][0]['spec']['cluster_reference']['name']\n",
    "\n",
    "        actions = []\n",
    "        for entity in r_json['entities']:\n",
    "            entity['timestamp'] = timestamp\n",
    "            entity['cluster_name'] = cluster_name\n",
    "            actions.append({'_index':index_name, '_source':entity})\n",
    "\n",
    "        return actions, cluster_name\n",
    "\n",
    "    # insert volume group\n",
    "    def volume_group(self, vg_json, timestamp, cluster_name):\n",
    "        es = self.es\n",
    "        index_name = 'volume_group'\n",
    "\n",
    "        actions = []\n",
    "        for entity in vg_json['entities']:\n",
    "            entity['timestamp'] = timestamp\n",
    "            entity['cluster_name'] = cluster_name\n",
    "            actions.append({'_index':index_name, '_source':entity})\n",
    "        helpers.bulk(es, actions)\n",
    "\n",
    "    def input_data(self, response, res_list):\n",
    "        es = self.es\n",
    "        r_json = response.json()\n",
    "\n",
    "        # vm_list\n",
    "        timestamp = datetime.utcnow()\n",
    "        actions, cluster_name = self.vm_list(r_json, timestamp)\n",
    "        reaction = helpers.bulk(es, actions)\n",
    "\n",
    "        # volume_group\n",
    "        vg_json = res_list['volume_group'].json()\n",
    "        self.volume_group(vg_json, timestamp, cluster_name)\n",
    "\n",
    "        return reaction[0], cluster_name\n",
    "\n",
    "    def get_eslist(self, index_name, timestamp, cluster_name):\n",
    "        es = self.es\n",
    "        query =  {\n",
    "            \"function_score\" : {\n",
    "                \"query\": { \"bool\": { \"must\": [\n",
    "                    {\"match\": { \"timestamp\" : timestamp}},\n",
    "                    {\"match\": { \"cluster_name\" : cluster_name}}\n",
    "                ]}}\n",
    "            }\n",
    "        }\n",
    "        res = es.search(index=index_name, query=query, size=512)\n",
    "        return [s['_source'] for s in res['hits']['hits'] ]\n",
    "    \n",
    "    def search_eslist(self, index_name, timestamp, cluster_name, keyword):\n",
    "        es = self.es\n",
    "        query =  {\n",
    "            \"function_score\" : {\n",
    "                \"query\": { \"bool\": { \"must\": [\n",
    "                    {\"match\": { \"cluster_name\": cluster_name}},\n",
    "                    {\"match\": { \"timestamp\": timestamp}},\n",
    "                    {\"multi_match\": { \n",
    "                      \"query\": keyword,\n",
    "                      \"fields\": [\"metadata.uuid\",  \"attachment_list.vm_uuid\", \"uuid\"]\n",
    "                    }}\n",
    "                ]}}\n",
    "            }\n",
    "        }\n",
    "        res = es.search(index=index_name, query=query, size=512)\n",
    "        return [s['_source'] for s in res['hits']['hits'] ]\n",
    "    \n",
    "    \n",
    "    def get_timeslot(self, cluster_name):\n",
    "        es = self.es\n",
    "        index_name = 'vm_list'\n",
    "\n",
    "        query = {\n",
    "            \"function_score\" : {\n",
    "                \"query\": {\"match\": { 'status.cluster_reference.name' : cluster_name}}\n",
    "            }\n",
    "        }\n",
    "        aggs =  {\n",
    "            \"group_by_timestamp\": {\"terms\": { \"field\" : \"timestamp\", \"size\" : 1000}}\n",
    "        }\n",
    "        res = es.search(index=index_name, query=query, aggs=aggs)\n",
    "        _timeslot = [slot['key_as_string'] for slot in res['aggregations']['group_by_timestamp']['buckets']]\n",
    "        timeslot = sorted(_timeslot, reverse=True)\n",
    "        timeslot_dict = change_timeslot_list(timeslot)\n",
    "        return timeslot_dict\n"
   ]
  },
  {
   "cell_type": "code",
   "execution_count": 80,
   "id": "d3354730-9573-425f-8429-0fb90293b92e",
   "metadata": {},
   "outputs": [
    {
     "data": {
      "text/plain": [
       "'2021-12-05T16:19:41.064Z'"
      ]
     },
     "execution_count": 80,
     "metadata": {},
     "output_type": "execute_result"
    }
   ],
   "source": [
    "ELASTIC_SERVER = 'elasticsearch:9200'\n",
    "es = Ela(es_server=ELASTIC_SERVER)\n",
    "\n",
    "cluster_name = 'POC20'\n",
    "#index_name = 'vm_list'\n",
    "index_name = 'volume_group'\n",
    "timeslot = es.get_timeslot(cluster_name)\n",
    "timestamp_utcstr = timeslot[0]['value_time']\n",
    "timestamp_utcstr"
   ]
  },
  {
   "cell_type": "code",
   "execution_count": 49,
   "id": "2cb217e9-b871-4089-bc00-5c0d844cffc0",
   "metadata": {},
   "outputs": [
    {
     "data": {
      "text/plain": [
       "27"
      ]
     },
     "execution_count": 49,
     "metadata": {},
     "output_type": "execute_result"
    }
   ],
   "source": [
    "info = es.get_eslist(index_name, timestamp_utcstr, cluster_name)\n",
    "len(info)"
   ]
  },
  {
   "cell_type": "code",
   "execution_count": 50,
   "id": "e60fc4d1-adf0-44d5-9245-2e9c1566981d",
   "metadata": {},
   "outputs": [],
   "source": [
    "import json \n",
    "with open('flaskr/sample/'+ index_name +'.json', mode='w') as f:\n",
    "    f.write(json.dumps(info))\n"
   ]
  },
  {
   "cell_type": "code",
   "execution_count": 82,
   "id": "5f9981c5-90c1-425d-8d7d-c9b56359e104",
   "metadata": {},
   "outputs": [
    {
     "data": {
      "text/plain": [
       "1"
      ]
     },
     "execution_count": 82,
     "metadata": {},
     "output_type": "execute_result"
    }
   ],
   "source": [
    "keyword = 'dbb56a2e-8ef0-45a8-b4eb-b5af64d6241f'\n",
    "index_name = ['vm_list', 'volume_group']\n",
    "info = es.search_eslist(index_name, timestamp_utcstr, cluster_name, keyword)\n",
    "len(info)"
   ]
  },
  {
   "cell_type": "code",
   "execution_count": 75,
   "id": "5fa8a2fc-523d-4e7c-8c39-4328120c9d03",
   "metadata": {},
   "outputs": [
    {
     "data": {
      "text/plain": [
       "[{'uuid': 'dbb56a2e-8ef0-45a8-b4eb-b5af64d6241f',\n",
       "  'name': 'File_Analytics_VG',\n",
       "  'description': '',\n",
       "  'logical_timestamp': 3,\n",
       "  'disk_list': [{'index': 0,\n",
       "    'vmdisk_uuid': '6dc80455-c895-47ed-8278-dd4d94a1e912',\n",
       "    'container_id': 12,\n",
       "    'storage_container_id': 12,\n",
       "    'container_uuid': '0f887a94-6051-4996-8759-48f62188c175',\n",
       "    'storage_container_uuid': '0f887a94-6051-4996-8759-48f62188c175',\n",
       "    'vmdisk_size_mb': 2097152,\n",
       "    'vmdisk_size_bytes': 2199023255552,\n",
       "    'vmdisk_path': '/default-container-90129684887843/.acropolis/vmdisk/6dc80455-c895-47ed-8278-dd4d94a1e912',\n",
       "    'flash_mode_enabled': False}],\n",
       "  'iscsi_target': 'fa-dbb56a2e-8ef0-45a8-b4eb-b5af64d6241f',\n",
       "  'attachment_list': [{'vm_uuid': '136b24a0-8c2d-4fe1-9ef5-10bce0299f23'}],\n",
       "  'flash_mode_enabled': False,\n",
       "  'is_shared': True,\n",
       "  'timestamp': '2021-12-05T16:19:41.064491',\n",
       "  'cluster_name': 'POC20'}]"
      ]
     },
     "execution_count": 75,
     "metadata": {},
     "output_type": "execute_result"
    }
   ],
   "source": [
    "info"
   ]
  },
  {
   "cell_type": "code",
   "execution_count": 66,
   "id": "759e0816-ef7e-4734-af00-4edc094dcaca",
   "metadata": {},
   "outputs": [],
   "source": [
    "import json \n",
    "with open('flaskr/sample/result.json', mode='w') as f:\n",
    "    f.write(json.dumps(info))\n"
   ]
  },
  {
   "cell_type": "code",
   "execution_count": null,
   "id": "ae67108c-f337-4070-8e14-eeda3eab9c0f",
   "metadata": {},
   "outputs": [],
   "source": []
  },
  {
   "cell_type": "code",
   "execution_count": null,
   "id": "0bbc2873-c2ee-4830-a79d-e9a783e847d4",
   "metadata": {},
   "outputs": [],
   "source": []
  },
  {
   "cell_type": "code",
   "execution_count": null,
   "id": "6aaa02ea-4652-4165-9cb6-aebe73ca7fcc",
   "metadata": {},
   "outputs": [],
   "source": []
  },
  {
   "cell_type": "code",
   "execution_count": null,
   "id": "871b8bc2-3ec9-43c6-b5e8-9425f1d33b27",
   "metadata": {},
   "outputs": [],
   "source": []
  },
  {
   "cell_type": "markdown",
   "id": "da55c3f2-acae-4027-b018-56fcf3297819",
   "metadata": {},
   "source": [
    "# 実験場"
   ]
  },
  {
   "cell_type": "code",
   "execution_count": null,
   "id": "866fba3d-5a2e-4ff3-89cc-3369cf14e6de",
   "metadata": {},
   "outputs": [],
   "source": []
  },
  {
   "cell_type": "code",
   "execution_count": 2,
   "id": "4d90d33e-0d5f-46cd-bd1d-31fc7ba0ce7a",
   "metadata": {},
   "outputs": [],
   "source": [
    "def get_timeslot(index_name, field, cluster_name):\n",
    "    query = {\n",
    "        \"function_score\" : {\n",
    "            \"query\": {\"match\": { field : cluster_name}}\n",
    "        }\n",
    "    }\n",
    "\n",
    "    aggs = { \n",
    "        \"group_by_timestamp\": {\"terms\": { \n",
    "            \"field\" : \"timestamp\",\n",
    "            \"size\" : 10000\n",
    "        }}\n",
    "    }\n",
    "    \n",
    "    res = es.search(index=index_name, query=query, aggs=aggs)\n",
    "    return res['aggregations']"
   ]
  },
  {
   "cell_type": "code",
   "execution_count": 3,
   "id": "ade8ba14-3db4-476d-a750-226ad64cb8a9",
   "metadata": {},
   "outputs": [],
   "source": [
    "groupby_time = get_timeslot('vm_list', 'status.cluster_reference.name', 'POC20')"
   ]
  },
  {
   "cell_type": "code",
   "execution_count": 4,
   "id": "12e74bac-13ab-4f4f-bc78-d8b13d83559b",
   "metadata": {},
   "outputs": [],
   "source": [
    "timeslot = [slot['key_as_string'] for slot in groupby_time['group_by_timestamp']['buckets']]\n",
    "timeslot.sort(reverse=True)"
   ]
  },
  {
   "cell_type": "code",
   "execution_count": 5,
   "id": "189684b4-9658-45f8-abf1-9f9b6f4646af",
   "metadata": {},
   "outputs": [
    {
     "data": {
      "text/plain": [
       "['2021-12-03T00:06:29.741Z',\n",
       " '2021-12-02T15:00:33.886Z',\n",
       " '2021-11-26T09:00:18.783Z',\n",
       " '2021-11-26T00:15:26.759Z',\n",
       " '2021-11-26T00:13:59.363Z',\n",
       " '2021-11-26T00:09:27.177Z',\n",
       " '2021-11-25T23:32:18.882Z',\n",
       " '2021-11-25T13:38:20.455Z',\n",
       " '2021-11-25T13:14:26.568Z',\n",
       " '2021-11-25T13:10:44.727Z',\n",
       " '2021-11-25T13:03:09.212Z',\n",
       " '2021-11-25T12:59:10.242Z',\n",
       " '2021-11-25T12:56:55.235Z',\n",
       " '2021-11-25T12:52:58.863Z',\n",
       " '2021-11-25T11:50:05.969Z',\n",
       " '2021-11-25T11:40:58.369Z',\n",
       " '2021-11-25T11:39:10.954Z',\n",
       " '2021-11-25T11:37:09.891Z',\n",
       " '2021-11-25T11:31:31.655Z',\n",
       " '2021-11-25T11:28:04.006Z',\n",
       " '2021-11-25T11:27:32.138Z',\n",
       " '2021-11-25T11:24:45.933Z',\n",
       " '2021-11-25T11:19:37.010Z',\n",
       " '2021-11-25T09:16:21.059Z',\n",
       " '2021-11-25T08:47:29.370Z',\n",
       " '2021-11-24T11:28:33.911Z',\n",
       " '2021-11-24T10:24:34.348Z',\n",
       " '2021-11-24T10:23:51.714Z',\n",
       " '2021-11-24T10:03:59.508Z',\n",
       " '2021-11-24T10:02:06.266Z',\n",
       " '2021-11-24T09:59:59.892Z',\n",
       " '2021-11-24T09:07:59.305Z',\n",
       " '2021-11-23T15:43:42.647Z',\n",
       " '2021-11-23T14:03:36.100Z',\n",
       " '2021-11-23T14:03:07.024Z',\n",
       " '2021-11-23T13:56:56.350Z',\n",
       " '2021-11-23T13:55:11.436Z',\n",
       " '2021-11-23T13:49:27.209Z',\n",
       " '2021-11-23T13:48:26.118Z',\n",
       " '2021-11-23T13:47:20.617Z',\n",
       " '2021-11-23T13:46:27.909Z',\n",
       " '2021-11-23T13:45:04.815Z',\n",
       " '2021-11-23T13:43:19.077Z',\n",
       " '2021-11-23T12:50:47.874Z',\n",
       " '2021-11-23T12:44:48.423Z',\n",
       " '2021-11-23T12:39:51.457Z',\n",
       " '2021-11-23T12:38:59.079Z',\n",
       " '2021-11-23T12:31:13.946Z',\n",
       " '2021-11-23T12:30:12.225Z',\n",
       " '2021-11-23T12:24:23.825Z',\n",
       " '2021-11-23T12:23:48.477Z',\n",
       " '2021-11-23T12:23:06.049Z',\n",
       " '2021-11-23T12:18:05.566Z',\n",
       " '2021-11-23T12:17:44.476Z',\n",
       " '2021-11-23T12:17:27.523Z',\n",
       " '2021-11-23T10:43:36.295Z',\n",
       " '2021-11-23T10:41:56.365Z',\n",
       " '2021-11-23T10:33:21.939Z',\n",
       " '2021-11-23T07:59:42.891Z',\n",
       " '2021-11-23T07:58:22.624Z',\n",
       " '2021-11-23T07:57:42.230Z',\n",
       " '2021-11-23T07:57:16.844Z',\n",
       " '2021-11-23T07:55:22.532Z',\n",
       " '2021-11-23T07:47:11.413Z',\n",
       " '2021-11-23T07:46:30.965Z',\n",
       " '2021-11-23T07:40:18.138Z',\n",
       " '2021-11-23T07:37:59.174Z',\n",
       " '2021-11-23T07:32:30.743Z',\n",
       " '2021-11-23T07:31:22.001Z',\n",
       " '2021-11-23T07:30:17.644Z',\n",
       " '2021-11-23T07:16:23.355Z',\n",
       " '2021-11-23T07:15:21.883Z',\n",
       " '2021-11-23T06:23:14.464Z',\n",
       " '2021-11-23T04:37:59.835Z',\n",
       " '2021-11-23T04:36:23.158Z',\n",
       " '2021-11-23T04:34:35.360Z',\n",
       " '2021-11-23T04:28:17.530Z',\n",
       " '2021-11-23T04:16:15.416Z',\n",
       " '2021-11-23T04:15:55.596Z',\n",
       " '2021-11-23T04:09:15.536Z',\n",
       " '2021-11-23T04:07:31.749Z',\n",
       " '2021-11-23T04:04:36.426Z',\n",
       " '2021-11-23T03:21:44.645Z',\n",
       " '2021-11-13T17:08:06.693Z']"
      ]
     },
     "execution_count": 5,
     "metadata": {},
     "output_type": "execute_result"
    }
   ],
   "source": [
    "timeslot"
   ]
  },
  {
   "cell_type": "code",
   "execution_count": 6,
   "id": "1749346f-a4e5-4119-b748-a5eb4b786875",
   "metadata": {},
   "outputs": [],
   "source": [
    "from datetime import datetime, timezone, timedelta\n",
    "import re"
   ]
  },
  {
   "cell_type": "code",
   "execution_count": 7,
   "id": "032b14e4-5904-451a-806a-de162751fba5",
   "metadata": {},
   "outputs": [],
   "source": [
    "def change_timeslot_list(timeslot):\n",
    "    timeslot_dict = []\n",
    "    for oneslot in timeslot:\n",
    "        _utc = re.split('[T.]', oneslot)\n",
    "        utc = _utc[0] + \" \" + _utc[1]\n",
    "        utc_time = datetime.strptime(utc, '%Y-%m-%d %H:%M:%S')\n",
    "        _jst_time = utc_time.astimezone(timezone(timedelta(hours=+9)))\n",
    "        jst_time = datetime.strftime(_jst_time, '%Y-%m-%d %H:%M:%S')\n",
    "        \n",
    "        timeslot_dict.append({'value_time':oneslot, 'local_time':jst_time})\n",
    "    return timeslot_dict"
   ]
  },
  {
   "cell_type": "code",
   "execution_count": 8,
   "id": "7ccacda1-a9d1-46b1-9b66-2b9cbb4daba0",
   "metadata": {},
   "outputs": [],
   "source": [
    "def change_timestamp_list(timestamp):\n",
    "    timestamp_dict = []\n",
    "\n",
    "    _utc = re.split('[T.]', timestamp)\n",
    "    utc = _utc[0] + \" \" + _utc[1]\n",
    "    utc_time = datetime.strptime(utc, '%Y-%m-%d %H:%M:%S')\n",
    "    _jst_time = utc_time.astimezone(timezone(timedelta(hours=+9)))\n",
    "    jst_time = datetime.strftime(_jst_time, '%Y-%m-%d %H:%M:%S')\n",
    "\n",
    "    timestamp_dict.append({'value_time':timestamp, 'local_time':jst_time})\n",
    "    return timestamp_dict"
   ]
  },
  {
   "cell_type": "code",
   "execution_count": 9,
   "id": "8ac886c7-66c0-4d32-a6e3-643ac97f81a4",
   "metadata": {},
   "outputs": [
    {
     "data": {
      "text/plain": [
       "[{'value_time': '2021-12-03T00:06:29.741Z',\n",
       "  'local_time': '2021-12-03 09:06:29'}]"
      ]
     },
     "execution_count": 9,
     "metadata": {},
     "output_type": "execute_result"
    }
   ],
   "source": [
    "timestamp_dict = change_timestamp_list(timeslot[0])\n",
    "timestamp_dict"
   ]
  },
  {
   "cell_type": "code",
   "execution_count": 11,
   "id": "5b7be94e-1468-42fa-9fcb-8478a4f2210f",
   "metadata": {},
   "outputs": [
    {
     "data": {
      "text/plain": [
       "{'value_time': '2021-12-03T00:06:29.741Z', 'local_time': '2021-12-03 09:06:29'}"
      ]
     },
     "execution_count": 11,
     "metadata": {},
     "output_type": "execute_result"
    }
   ],
   "source": [
    "timeslot_dict = change_timeslot_list(timeslot)\n",
    "timeslot_dict[0]"
   ]
  },
  {
   "cell_type": "code",
   "execution_count": null,
   "id": "6a97d398-772e-4ae3-ad0f-8b0e8ed5f89c",
   "metadata": {},
   "outputs": [],
   "source": []
  },
  {
   "cell_type": "code",
   "execution_count": null,
   "id": "c577ee53-bbb4-46f8-8599-1174e51294c8",
   "metadata": {},
   "outputs": [],
   "source": [
    "def get_"
   ]
  },
  {
   "cell_type": "code",
   "execution_count": null,
   "id": "01b12add-9545-4aec-814d-2823251eb19e",
   "metadata": {},
   "outputs": [],
   "source": []
  },
  {
   "cell_type": "code",
   "execution_count": null,
   "id": "88185013-3a32-4003-9588-fdab6f646b33",
   "metadata": {},
   "outputs": [],
   "source": []
  },
  {
   "cell_type": "code",
   "execution_count": null,
   "id": "8523bf39-3813-44de-bba6-caf7092366a0",
   "metadata": {},
   "outputs": [],
   "source": []
  },
  {
   "cell_type": "code",
   "execution_count": null,
   "id": "fde2be23-9c5f-4211-ac25-015c8e872e5c",
   "metadata": {},
   "outputs": [],
   "source": []
  },
  {
   "cell_type": "code",
   "execution_count": null,
   "id": "8a733e46-4d10-4583-90c4-2bc0af3f5c3f",
   "metadata": {},
   "outputs": [],
   "source": []
  },
  {
   "cell_type": "code",
   "execution_count": 122,
   "id": "e995db33-b527-4750-97a2-1fac185f85dd",
   "metadata": {},
   "outputs": [],
   "source": [
    "def get_doc(index_name, field, keyword):\n",
    "    query =  { \n",
    "        \"function_score\" : {\n",
    "            \"query\": {\"match\": { field : keyword}}\n",
    "        }\n",
    "    }\n",
    "    res = es.search(index=index_name, query=query, size=512)\n",
    "    return [s['_source'] for s in res['hits']['hits'] ]"
   ]
  },
  {
   "cell_type": "code",
   "execution_count": 123,
   "id": "72bb6057-ff1b-4d62-95e5-4d44240968a5",
   "metadata": {},
   "outputs": [],
   "source": [
    "field = \"timestamp\"\n",
    "aa = get_doc('vm_list', field, timestamp)"
   ]
  },
  {
   "cell_type": "code",
   "execution_count": 124,
   "id": "1d581603-1b4f-4315-b0a5-380957e1f946",
   "metadata": {},
   "outputs": [
    {
     "data": {
      "text/plain": [
       "(29,\n",
       " ['PC-POC20',\n",
       "  'win2012',\n",
       "  'FoundationVM5.0.4',\n",
       "  'PC-POC20',\n",
       "  'PC-NameOption-2',\n",
       "  'PC-NameOption-3',\n",
       "  'pc-1',\n",
       "  'pc-2',\n",
       "  'pc-3',\n",
       "  'pc-01',\n",
       "  'pc-03',\n",
       "  'pc-02',\n",
       "  'otani-vm1',\n",
       "  'otani-vm2',\n",
       "  'otani-vm3',\n",
       "  'ebgp',\n",
       "  'Nutanix-Clone-ESXi6.7',\n",
       "  'NTNX-ohtani01-1',\n",
       "  'NTNX-FA-ohtani-fa',\n",
       "  'NTNX-ohtani02-1',\n",
       "  'NTNX-ohtani02-2',\n",
       "  'NTNX-ohtani02-3',\n",
       "  'foundation-vm-5.0.3',\n",
       "  'Win10yuki',\n",
       "  'CentOS8',\n",
       "  'Nutanix-Clone-CentOS8',\n",
       "  'LGWAN_VM',\n",
       "  'move4.2.1',\n",
       "  'move4.0'])"
      ]
     },
     "execution_count": 124,
     "metadata": {},
     "output_type": "execute_result"
    }
   ],
   "source": [
    "len(aa), [a['spec']['name'] for a in aa]"
   ]
  },
  {
   "cell_type": "code",
   "execution_count": null,
   "id": "240304eb-6eec-42ed-9323-3c6207398b1e",
   "metadata": {},
   "outputs": [],
   "source": []
  },
  {
   "cell_type": "code",
   "execution_count": null,
   "id": "852f8b2f-910a-4b10-ba3a-ab3a41fc102d",
   "metadata": {},
   "outputs": [],
   "source": []
  },
  {
   "cell_type": "code",
   "execution_count": null,
   "id": "df31d642-4216-49aa-916f-3a9ab1c8615b",
   "metadata": {},
   "outputs": [],
   "source": []
  },
  {
   "cell_type": "code",
   "execution_count": 31,
   "id": "345885e2-9a7b-4b02-b91a-4b68be16f218",
   "metadata": {},
   "outputs": [],
   "source": [
    "#from requests.exceptions import Timeout\n",
    "\n",
    "class NutanixAPI():\n",
    "    def get_vmlist(self, prism_ip, prism_user, prism_pass):\n",
    "        #########################\n",
    "        # Cluster情報を入力\n",
    "        #########################\n",
    "        cluster_name = \"POC20\"\n",
    "        #prism_ip = '10.149.20.41'\n",
    "        #prism_user = 'dmin'\n",
    "        #prism_pass = 'Nutanix/4u123!'\n",
    "\n",
    "        # authentication\n",
    "        # 参考 https://www.nutanix.dev/reference/prism_central/v3/authentication\n",
    "        request_url = 'https://' + prism_ip + ':9440/api/nutanix/v3/vms/list'\n",
    "\n",
    "        encoded_credentials = b64encode(bytes(f'{prism_user}:{prism_pass}', encoding='ascii')).decode('ascii')\n",
    "        auth_header = f'Basic {encoded_credentials}'\n",
    "        payload = '{\"kind\":\"vm\", \"length\":256}'\n",
    "        headers = {'Accept': 'application/json', 'Content-Type': 'application/json', 'Authorization': f'{auth_header}', 'cache-control': 'no-cache'}\n",
    "\n",
    "        # 200が返ってこれば OK\n",
    "        try:\n",
    "            response = requests.request('post', request_url, data=payload, headers=headers, verify=False, timeout=3.5)\n",
    "        \n",
    "        except requests.exceptions.ConnectTimeout:\n",
    "            response = \"Timeout shimasita\"\n",
    "        \n",
    "        return response"
   ]
  },
  {
   "cell_type": "code",
   "execution_count": 32,
   "id": "d02a780e-7cbb-4acd-97aa-dfb74b16bf6a",
   "metadata": {},
   "outputs": [],
   "source": [
    "ntnx = NutanixAPI()"
   ]
  },
  {
   "cell_type": "code",
   "execution_count": 35,
   "id": "b4f0c8ab-e742-46b8-b0f4-354185a8c83f",
   "metadata": {},
   "outputs": [],
   "source": [
    "ip = '10.149.20.41'\n",
    "user = 'admin'\n",
    "passs = 'Nutanix/4u123!'\n",
    "response = ntnx.get_vmlist(ip, user, passs)"
   ]
  },
  {
   "cell_type": "code",
   "execution_count": 36,
   "id": "708e9a72-e8b2-4448-b0ff-d2716148002c",
   "metadata": {},
   "outputs": [
    {
     "data": {
      "text/plain": [
       "<Response [200]>"
      ]
     },
     "execution_count": 36,
     "metadata": {},
     "output_type": "execute_result"
    }
   ],
   "source": [
    "response"
   ]
  },
  {
   "cell_type": "code",
   "execution_count": 28,
   "id": "13a12484-0df4-4c60-939a-945b0d7d0cf3",
   "metadata": {},
   "outputs": [
    {
     "name": "stdout",
     "output_type": "stream",
     "text": [
      "{'reason': 'AUTHENTICATION_REQUIRED', 'message': 'Authentication required.', 'details': 'Basic realm=\"Intent Gateway Login Required\"'}\n"
     ]
    }
   ],
   "source": [
    "if hasattr(aa, 'status_code'):\n",
    "    if response.status_code == 200:\n",
    "        print(\"OK\")\n",
    "    else:\n",
    "        r_json = response.json()\n",
    "        print(r_json['message_list'][0]['message'])\n",
    "else:\n",
    "    print(aa)"
   ]
  },
  {
   "cell_type": "code",
   "execution_count": 98,
   "id": "f517da8a-307e-49ff-966a-74ca977517ef",
   "metadata": {},
   "outputs": [
    {
     "name": "stdout",
     "output_type": "stream",
     "text": [
      "yoshi\n"
     ]
    }
   ],
   "source": [
    "abc = ''\n",
    "if 'abc' in locals(): print('yoshi')"
   ]
  },
  {
   "cell_type": "code",
   "execution_count": null,
   "id": "1fe4f23d-f4f6-49a5-b7bf-eb3c96dd233d",
   "metadata": {},
   "outputs": [],
   "source": []
  },
  {
   "cell_type": "code",
   "execution_count": null,
   "id": "7349a69d-d0c8-40aa-a185-14c78a35148e",
   "metadata": {},
   "outputs": [],
   "source": []
  }
 ],
 "metadata": {
  "kernelspec": {
   "display_name": "Python 3 (ipykernel)",
   "language": "python",
   "name": "python3"
  },
  "language_info": {
   "codemirror_mode": {
    "name": "ipython",
    "version": 3
   },
   "file_extension": ".py",
   "mimetype": "text/x-python",
   "name": "python",
   "nbconvert_exporter": "python",
   "pygments_lexer": "ipython3",
   "version": "3.9.9"
  }
 },
 "nbformat": 4,
 "nbformat_minor": 5
}
