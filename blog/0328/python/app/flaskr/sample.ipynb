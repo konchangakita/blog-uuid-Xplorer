{
 "cells": [
  {
   "cell_type": "code",
   "execution_count": 1,
   "metadata": {},
   "outputs": [
    {
     "data": {
      "text/plain": [
       "'3.9.9 (main, Dec 21 2021, 10:14:07) \\n[GCC 10.2.1 20210110]'"
      ]
     },
     "execution_count": 1,
     "metadata": {},
     "output_type": "execute_result"
    }
   ],
   "source": [
    "import json\n",
    "\n",
    "import sys\n",
    "sys.version"
   ]
  },
  {
   "cell_type": "code",
   "execution_count": 2,
   "metadata": {},
   "outputs": [],
   "source": [
    "from elasticsearch import Elasticsearch\n",
    "from elasticsearch import helpers\n",
    "\n",
    "from datetime import datetime\n",
    "from datetime import timezone, timedelta\n",
    "\n",
    "# UTC to JST\n",
    "def change_timeslot(timeslot):\n",
    "    timeslot_dict = []\n",
    "    for oneslot in timeslot:\n",
    "        _utc = re.split('[T.]', oneslot)\n",
    "        utc = _utc[0] + \" \" + _utc[1]\n",
    "        utc_time = datetime.strptime(utc, '%Y-%m-%d %H:%M:%S')\n",
    "        _jst_time = utc_time.astimezone(timezone(timedelta(hours=+9)))\n",
    "        jst_time = datetime.strftime(_jst_time, '%Y-%m-%d %H:%M:%S')\n",
    "\n",
    "        timeslot_dict.append({'utc_time':oneslot, 'local_time':jst_time})\n",
    "    return timeslot_dict\n",
    "\n",
    "class ElasticAPI():\n",
    "    def __init__(self, es_server):\n",
    "        self.es = Elasticsearch(es_server)\n",
    "\n",
    "    # check index and create alias\n",
    "    def check_indices(self, index_name):\n",
    "        es = self.es\n",
    "        indices = es.cat.indices(index='*', h='index').splitlines()\n",
    "        if index_name not in indices:\n",
    "            es.indices.create(index=index_name)\n",
    "\n",
    "            alias = 'search_uuid'\n",
    "            es.indices.update_aliases(\n",
    "                actions = [\n",
    "                    { 'add': { 'index': index_name, 'alias': alias }}\n",
    "                ]\n",
    "            )\n",
    "\n",
    "    # put the data from Prism(Element) API to Elasticsearch\n",
    "    def put_rest_pe(self, r_json, timestamp, cluster_name, cluster_uuid, index_name):\n",
    "        es = self.es\n",
    "        index_name = index_name\n",
    "        self.check_indices(index_name)\n",
    "\n",
    "        actions = []\n",
    "        if index_name != 'share_details':\n",
    "            for entity in r_json['entities']:\n",
    "                entity['timestamp'] = timestamp\n",
    "                entity['cluster_name'] = cluster_name\n",
    "                entity['cluster_uuid'] = cluster_uuid\n",
    "                actions.append({'_index':index_name, '_source':entity})\n",
    "        else:\n",
    "            for entity in r_json:\n",
    "                entity['timestamp'] = timestamp\n",
    "                entity['cluster_name'] = cluster_name\n",
    "                entity['cluster_uuid'] = cluster_uuid\n",
    "                actions.append({'_index':index_name, '_source':entity})\n",
    "\n",
    "        reaction = helpers.bulk(es, actions)\n",
    "        return reaction[0]\n",
    "\n",
    "    def input_data(self, res_list):\n",
    "        timestamp = datetime.utcnow()\n",
    "        input_size = {}\n",
    "\n",
    "        # vms\n",
    "        vms_json = res_list['vms']\n",
    "        cluster_name = vms_json['entities'][0]['spec']['cluster_reference']['name']\n",
    "        cluster_uuid = vms_json['entities'][0]['spec']['cluster_reference']['uuid']\n",
    "        input_size['vms'] = self.put_rest_pe(vms_json, timestamp, cluster_name, cluster_uuid, index_name='vms')\n",
    "\n",
    "        # volume_group\n",
    "        volume_groups_json = res_list['volume_groups']\n",
    "        input_size['volume_groups'] = self.put_rest_pe(volume_groups_json, timestamp, cluster_name, cluster_uuid, index_name='volume_groups')\n",
    "\n",
    "        return cluster_name, input_size"
   ]
  },
  {
   "cell_type": "code",
   "execution_count": 3,
   "metadata": {},
   "outputs": [],
   "source": [
    "ELASTIC_SERVER = 'http://elasticsearch:9200'\n",
    "es = ElasticAPI(es_server=ELASTIC_SERVER)\n"
   ]
  },
  {
   "cell_type": "code",
   "execution_count": 4,
   "metadata": {},
   "outputs": [],
   "source": [
    "res_list = {}\n",
    "with open('./sample/vms.json') as f:\n",
    "    res_list['vms'] = json.load(f)\n",
    "with open('./sample/volume_groups.json') as f:\n",
    "    res_list['volume_groups'] = json.load(f)"
   ]
  },
  {
   "cell_type": "code",
   "execution_count": 5,
   "metadata": {},
   "outputs": [
    {
     "name": "stderr",
     "output_type": "stream",
     "text": [
      "/tmp/ipykernel_1860/2895218574.py:27: ElasticsearchWarning: Elasticsearch built-in security features are not enabled. Without authentication, your cluster could be accessible to anyone. See https://www.elastic.co/guide/en/elasticsearch/reference/7.14/security-minimal-setup.html to enable security.\n",
      "  indices = es.cat.indices(index='*', h='index').splitlines()\n",
      "/tmp/ipykernel_1860/2895218574.py:29: ElasticsearchWarning: Elasticsearch built-in security features are not enabled. Without authentication, your cluster could be accessible to anyone. See https://www.elastic.co/guide/en/elasticsearch/reference/7.14/security-minimal-setup.html to enable security.\n",
      "  es.indices.create(index=index_name)\n",
      "/tmp/ipykernel_1860/2895218574.py:32: ElasticsearchWarning: Elasticsearch built-in security features are not enabled. Without authentication, your cluster could be accessible to anyone. See https://www.elastic.co/guide/en/elasticsearch/reference/7.14/security-minimal-setup.html to enable security.\n",
      "  es.indices.update_aliases(\n",
      "/tmp/ipykernel_1860/2895218574.py:58: ElasticsearchWarning: Elasticsearch built-in security features are not enabled. Without authentication, your cluster could be accessible to anyone. See https://www.elastic.co/guide/en/elasticsearch/reference/7.14/security-minimal-setup.html to enable security.\n",
      "  reaction = helpers.bulk(es, actions)\n"
     ]
    },
    {
     "data": {
      "text/plain": [
       "('POC20', {'vms': 35, 'volume_groups': 32})"
      ]
     },
     "execution_count": 5,
     "metadata": {},
     "output_type": "execute_result"
    }
   ],
   "source": [
    "es.input_data(res_list)"
   ]
  },
  {
   "cell_type": "code",
   "execution_count": null,
   "metadata": {},
   "outputs": [],
   "source": []
  },
  {
   "cell_type": "code",
   "execution_count": null,
   "metadata": {},
   "outputs": [],
   "source": []
  },
  {
   "cell_type": "code",
   "execution_count": null,
   "metadata": {},
   "outputs": [],
   "source": []
  },
  {
   "cell_type": "code",
   "execution_count": null,
   "metadata": {},
   "outputs": [],
   "source": []
  }
 ],
 "metadata": {
  "kernelspec": {
   "display_name": "Python 3 (ipykernel)",
   "language": "python",
   "name": "python3"
  },
  "language_info": {
   "codemirror_mode": {
    "name": "ipython",
    "version": 3
   },
   "file_extension": ".py",
   "mimetype": "text/x-python",
   "name": "python",
   "nbconvert_exporter": "python",
   "pygments_lexer": "ipython3",
   "version": "3.9.9"
  },
  "orig_nbformat": 4
 },
 "nbformat": 4,
 "nbformat_minor": 2
}
